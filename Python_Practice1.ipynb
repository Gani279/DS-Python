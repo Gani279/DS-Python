{
 "cells": [
  {
   "cell_type": "markdown",
   "id": "710a88b4-1462-48a7-b625-41b8c4e68dfa",
   "metadata": {},
   "source": [
    "***PYTHON CODE TO CHECK LEAP YEAR OR NOT***"
   ]
  },
  {
   "cell_type": "code",
   "execution_count": 29,
   "id": "e5371e7b-9d16-4725-9415-4d4e7a2c2500",
   "metadata": {},
   "outputs": [
    {
     "name": "stdin",
     "output_type": "stream",
     "text": [
      "Enter a Year : 2024\n"
     ]
    },
    {
     "name": "stdout",
     "output_type": "stream",
     "text": [
      "2024 is a leap year\n"
     ]
    }
   ],
   "source": [
    "a=int(input(\"Enter a Year :\"))\n",
    "if(a%400==0) or (a%4==0 and a%100!=0):\n",
    "    print(a,\"is a leap year\")\n",
    "else:\n",
    "    print(a,\"is not a leap year\")"
   ]
  },
  {
   "cell_type": "markdown",
   "id": "51b73367-ee41-480a-b8d9-23bce202f220",
   "metadata": {},
   "source": [
    "***PYTHON CODE TO FIND LARGEST AMONG THREE NUMBERS***"
   ]
  },
  {
   "cell_type": "code",
   "execution_count": 27,
   "id": "35975388-7900-439e-8e70-c4350e762afd",
   "metadata": {},
   "outputs": [
    {
     "name": "stdin",
     "output_type": "stream",
     "text": [
      "Enter a value : 10\n",
      "Enter b value : 20\n",
      "Enter c value : 30\n"
     ]
    },
    {
     "name": "stdout",
     "output_type": "stream",
     "text": [
      "30 is largest\n"
     ]
    }
   ],
   "source": [
    "a=int(input(\"Enter a value :\"))\n",
    "b=int(input(\"Enter b value :\"))\n",
    "c=int(input(\"Enter c value :\"))\n",
    "if(a>=b and a>=c):\n",
    "    print(a,\"is largest\")\n",
    "elif(b>=a and b>=c):\n",
    "    print(b,\"is largest\")\n",
    "else:\n",
    "    print(c,\"is largest\")"
   ]
  },
  {
   "cell_type": "markdown",
   "id": "a84b9bb1-7c83-446e-af7d-ffecb2bf26c7",
   "metadata": {},
   "source": [
    "***PYTHON CODE FOR TRAFFIC SIGNALS***"
   ]
  },
  {
   "cell_type": "code",
   "execution_count": 25,
   "id": "80bf48a2-a730-416b-9a0e-d0d68afa07da",
   "metadata": {},
   "outputs": [
    {
     "name": "stdin",
     "output_type": "stream",
     "text": [
      "Enter a value : 2\n"
     ]
    },
    {
     "name": "stdout",
     "output_type": "stream",
     "text": [
      "Signal ORANGE : WAIT\n"
     ]
    }
   ],
   "source": [
    "D={1:\"RED : STOP\",2:\"ORANGE : WAIT\",3:\"GREEN : GO\"}\n",
    "a=int(input(\"Enter a value :\"))\n",
    "for key,signal in D.items():\n",
    "    if a in D:\n",
    "        print(\"Signal \"+ D[a])\n",
    "        break\n",
    "    else:\n",
    "        print(\"Doesn't Exit\")\n",
    "    "
   ]
  },
  {
   "cell_type": "markdown",
   "id": "ab728b78-262a-43ca-ad18-ef6c7e41028c",
   "metadata": {},
   "source": [
    "***PYTHON CODE TO CHECK VOWEL OR CONSONANT***"
   ]
  },
  {
   "cell_type": "code",
   "execution_count": 23,
   "id": "4b4e0f3f-5787-4a58-ab10-942bfa1c5dce",
   "metadata": {},
   "outputs": [
    {
     "name": "stdin",
     "output_type": "stream",
     "text": [
      "Character = A\n"
     ]
    },
    {
     "name": "stdout",
     "output_type": "stream",
     "text": [
      "A is a Vowel\n"
     ]
    }
   ],
   "source": [
    "a=input(\"Character =\")\n",
    "Vowels=[\"A\",\"E\",\"I\",\"O\",\"U\",\"a\",\"e\",\"i\",\"o\",\"u\"]\n",
    "if a in Vowels:\n",
    "    print(a, \"is a Vowel\")\n",
    "else:\n",
    "    print(a, \"is a consonant\")"
   ]
  },
  {
   "cell_type": "markdown",
   "id": "1dcb8991-d201-4950-b71b-60e758d4e13d",
   "metadata": {},
   "source": [
    "***PYTHON CODE TO REVERSE A STRING***"
   ]
  },
  {
   "cell_type": "code",
   "execution_count": 19,
   "id": "eabf4063-28eb-4623-aa0c-85c92de1c193",
   "metadata": {},
   "outputs": [
    {
     "name": "stdin",
     "output_type": "stream",
     "text": [
      "STRING = ganesh\n"
     ]
    },
    {
     "name": "stdout",
     "output_type": "stream",
     "text": [
      "Reverse String = hsenag\n"
     ]
    }
   ],
   "source": [
    "a=input(\"STRING =\")\n",
    "b=a[::-1]\n",
    "print(\"Reverse String =\",b)"
   ]
  },
  {
   "cell_type": "markdown",
   "id": "fba7324a-8082-4901-8f1f-b771034a8956",
   "metadata": {},
   "source": [
    "***PYTHON CODE TO REMOVE DUPLICATES IN A LIST***"
   ]
  },
  {
   "cell_type": "code",
   "execution_count": 35,
   "id": "5564f108-7510-4a0f-aacb-d2abc7db0c82",
   "metadata": {},
   "outputs": [
    {
     "name": "stdin",
     "output_type": "stream",
     "text": [
      "LIST =  1 2 3 5 3 5 6\n"
     ]
    },
    {
     "name": "stdout",
     "output_type": "stream",
     "text": [
      "Updated List = [1, 2, 3, 5, 6]\n"
     ]
    }
   ],
   "source": [
    "a=list(map(int,input(\"LIST = \").split()))\n",
    "b=[]\n",
    "for i in a:\n",
    "    if i not in b:\n",
    "        b.append(i)\n",
    "print(\"Updated List =\", b)        "
   ]
  },
  {
   "cell_type": "markdown",
   "id": "76608c2c-9fd8-4488-bf4e-e12788965511",
   "metadata": {},
   "source": [
    "***PYTHON CODE TO SWAP TWO NUMBERS WITHOUT USING 3rd VARIABLE***"
   ]
  },
  {
   "cell_type": "code",
   "execution_count": 3,
   "id": "e6a6e4a6-d0b5-485a-a7a1-8b0ae843b076",
   "metadata": {},
   "outputs": [
    {
     "name": "stdin",
     "output_type": "stream",
     "text": [
      "A =  12\n",
      "B =  13\n"
     ]
    },
    {
     "name": "stdout",
     "output_type": "stream",
     "text": [
      "A =  13\n",
      "B =  12\n"
     ]
    }
   ],
   "source": [
    "a=int(input(\"A = \"))\n",
    "b=int(input(\"B = \"))\n",
    "a=a+b\n",
    "b=a-b\n",
    "a=a-b\n",
    "print(\"A = \", +a)\n",
    "print(\"B = \", +b)\n"
   ]
  },
  {
   "cell_type": "code",
   "execution_count": null,
   "id": "7f185e67-2f93-4ae7-b597-034dae6a671f",
   "metadata": {},
   "outputs": [],
   "source": []
  }
 ],
 "metadata": {
  "kernelspec": {
   "display_name": "Python 3 (ipykernel)",
   "language": "python",
   "name": "python3"
  },
  "language_info": {
   "codemirror_mode": {
    "name": "ipython",
    "version": 3
   },
   "file_extension": ".py",
   "mimetype": "text/x-python",
   "name": "python",
   "nbconvert_exporter": "python",
   "pygments_lexer": "ipython3",
   "version": "3.11.7"
  }
 },
 "nbformat": 4,
 "nbformat_minor": 5
}
