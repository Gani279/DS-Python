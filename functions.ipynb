{
 "cells": [
  {
   "cell_type": "markdown",
   "id": "dca2ef3a-6315-4921-9ea9-eeae6b35646d",
   "metadata": {},
   "source": [
    "***1.PYTHON CODE TO CHECK PRIME NUMBER OR NOT***\n"
   ]
  },
  {
   "cell_type": "code",
   "execution_count": 8,
   "id": "c98cff1d-b21e-4e6a-a895-e94a545db71c",
   "metadata": {},
   "outputs": [
    {
     "name": "stdin",
     "output_type": "stream",
     "text": [
      "Enter a Number 4\n"
     ]
    },
    {
     "name": "stdout",
     "output_type": "stream",
     "text": [
      "4 is Not a Prime Number\n"
     ]
    }
   ],
   "source": [
    "def check(a):\n",
    "    c=0\n",
    "    for i in range(2,a):\n",
    "        if(a%i==0):\n",
    "            c+=1\n",
    "            break\n",
    "    if(c>=1):\n",
    "        print(a,\"is Not a Prime Number\")\n",
    "    else:\n",
    "        print(a,\"is a Prime Number\")\n",
    "a=int(input(\"Enter a Number: \"))\n",
    "check(a)\n",
    "        "
   ]
  },
  {
   "cell_type": "markdown",
   "id": "5972d04f-ac8f-4190-b127-0a3e98ffef78",
   "metadata": {},
   "source": [
    "***2.PYTHON CODE TO CHECK PALINDROME OR NOT***\n"
   ]
  },
  {
   "cell_type": "code",
   "execution_count": 19,
   "id": "e9cb57f9-c5c5-4010-8761-6a0a2e5ba8e8",
   "metadata": {},
   "outputs": [
    {
     "name": "stdin",
     "output_type": "stream",
     "text": [
      "Enter the Input 121\n"
     ]
    },
    {
     "name": "stdout",
     "output_type": "stream",
     "text": [
      "121 is a Phalindrome Number\n"
     ]
    }
   ],
   "source": [
    "def check(a):\n",
    "    b=a\n",
    "    c=a[::-1]\n",
    "    if(c==b):\n",
    "        print(a,\"is a Phalindrome Number\")\n",
    "    else:\n",
    "        print(a,\"is not a Phalindrome Number\")\n",
    "a=input(\"Enter the Input: \")\n",
    "check(a)"
   ]
  },
  {
   "cell_type": "markdown",
   "id": "b7c9e44f-b986-4a07-9959-1f2bee04552e",
   "metadata": {},
   "source": [
    "***3.PYTHON CODE TO GENERATE FIBINOCCI SERIES***\n"
   ]
  },
  {
   "cell_type": "code",
   "execution_count": 37,
   "id": "95da5698-b965-4153-a43b-4eb1a29d19a4",
   "metadata": {},
   "outputs": [
    {
     "name": "stdin",
     "output_type": "stream",
     "text": [
      " 8\n"
     ]
    },
    {
     "name": "stdout",
     "output_type": "stream",
     "text": [
      "Fibinocci Series :  [0, 1, 1, 2, 3, 5, 8, 13]\n"
     ]
    }
   ],
   "source": [
    "def generate(a):\n",
    "    l=[0,1]\n",
    "    b=0\n",
    "    c=1\n",
    "    while(len(l)<a):\n",
    "        d=b+c\n",
    "        l.append(d)\n",
    "        b=c\n",
    "        c=d\n",
    "    print(\"Fibinocci Series : \",end=\" \")\n",
    "    print(l)\n",
    "a=int(input(\"Enter a Value: \"))\n",
    "generate(a)\n",
    "    \n",
    "        \n",
    "    "
   ]
  },
  {
   "cell_type": "markdown",
   "id": "075d32af-aed1-41a1-a892-2d309143cec1",
   "metadata": {},
   "source": [
    "***4.PYTHON CODE TO REMOVE REPEATING ELEMENT IN A STRING***\n"
   ]
  },
  {
   "cell_type": "code",
   "execution_count": 44,
   "id": "d853e0f8-6c55-481c-af84-e7f4ba7028fd",
   "metadata": {},
   "outputs": [
    {
     "name": "stdin",
     "output_type": "stream",
     "text": [
      "Enter a String:  madam\n"
     ]
    },
    {
     "name": "stdout",
     "output_type": "stream",
     "text": [
      "mad\n"
     ]
    }
   ],
   "source": [
    "def remove(a):\n",
    "    l=[]\n",
    "    for i in range(len(a)):\n",
    "        if a[i] not in l:\n",
    "            l.append(a[i])\n",
    "    print(''.join(l))\n",
    "a=input(\"Enter a String: \")\n",
    "remove(a)"
   ]
  },
  {
   "cell_type": "markdown",
   "id": "abb60a2d-7940-45fa-a993-d7846be74394",
   "metadata": {},
   "source": [
    "***5.PYTHON CODE TO RETURN FIRST NON-REPEATING ELEMENT***"
   ]
  },
  {
   "cell_type": "code",
   "execution_count": 56,
   "id": "88d63717-6978-41ff-8579-4a7cae83f534",
   "metadata": {},
   "outputs": [
    {
     "name": "stdin",
     "output_type": "stream",
     "text": [
      "Enter a Input:  llumahal\n"
     ]
    },
    {
     "name": "stdout",
     "output_type": "stream",
     "text": [
      "First Non-repeating character:  u\n"
     ]
    }
   ],
   "source": [
    "def out(a):\n",
    "    for i in range(len(a)):\n",
    "        b=a[i+1:]\n",
    "        if a[i] not in b:\n",
    "            print(\"First Non-repeating character: \",a[i])\n",
    "            break\n",
    "a=input(\"Enter a Input: \")\n",
    "out(a)"
   ]
  },
  {
   "cell_type": "code",
   "execution_count": null,
   "id": "6a12f6a4-c18f-40ac-b57b-f0ae8e51856f",
   "metadata": {},
   "outputs": [],
   "source": []
  }
 ],
 "metadata": {
  "kernelspec": {
   "display_name": "Python 3 (ipykernel)",
   "language": "python",
   "name": "python3"
  },
  "language_info": {
   "codemirror_mode": {
    "name": "ipython",
    "version": 3
   },
   "file_extension": ".py",
   "mimetype": "text/x-python",
   "name": "python",
   "nbconvert_exporter": "python",
   "pygments_lexer": "ipython3",
   "version": "3.11.7"
  }
 },
 "nbformat": 4,
 "nbformat_minor": 5
}
